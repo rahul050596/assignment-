{
 "cells": [
  {
   "cell_type": "code",
   "execution_count": 54,
   "id": "88c5d68d",
   "metadata": {
    "scrolled": true
   },
   "outputs": [
    {
     "name": "stdout",
     "output_type": "stream",
     "text": [
      "A: \n",
      "[[ 4 -2 -3  1]\n",
      " [ 1  3  1  3]\n",
      " [ 1  2 -1 -2]\n",
      " [ 2  1 -1 -1]]\n",
      "P: \n",
      "[[1. 0. 0. 0.]\n",
      " [0. 1. 0. 0.]\n",
      " [0. 0. 1. 0.]\n",
      " [0. 0. 0. 1.]]\n",
      "L: \n",
      "[[1.         0.         0.         0.        ]\n",
      " [0.25       1.         0.         0.        ]\n",
      " [0.25       0.71428571 1.         0.        ]\n",
      " [0.5        0.57142857 0.33333333 1.        ]]\n",
      "U: \n",
      "[[ 4.         -2.         -3.          1.        ]\n",
      " [ 0.          3.5         1.75        2.75      ]\n",
      " [ 0.          0.         -1.5        -4.21428571]\n",
      " [ 0.          0.          0.         -1.66666667]]\n"
     ]
    },
    {
     "data": {
      "text/plain": [
       "True"
      ]
     },
     "execution_count": 54,
     "metadata": {},
     "output_type": "execute_result"
    }
   ],
   "source": [
    "# PERFORM LU DECOMPOSTION OF SQUARE MATRIX A\n",
    "import numpy as np\n",
    "import scipy.linalg as lg  #Scipy linear Algebra Library\n",
    "A= np.array([[4,-2,-3,1],[1,3,1,3],[1,2,-1,-2],[2,1,-1,-1]])\n",
    "print('A: ')\n",
    "print(A)\n",
    "\n",
    "\n",
    "P,L,U =lg.lu(A) # where P is unit matrix. here decomposed matrix A into lower triangular matrix(L) and UPPEr TRIANGULAR matrix(U)\n",
    "print(\"P: \") # A=LU\n",
    "print(P)\n",
    "print('L: ')\n",
    "print(L)\n",
    "print('U: ')\n",
    "print(U)\n",
    "np.allclose(L@U,A) # show A=PLU"
   ]
  },
  {
   "cell_type": "code",
   "execution_count": 55,
   "id": "b5bd1689",
   "metadata": {},
   "outputs": [
    {
     "name": "stdout",
     "output_type": "stream",
     "text": [
      "B\n",
      "[[20]\n",
      " [14]\n",
      " [ 3]\n",
      " [ 9]]\n",
      "X\n",
      "[[ 5.]\n",
      " [ 1.]\n",
      " [-0.]\n",
      " [ 2.]]\n"
     ]
    }
   ],
   "source": [
    "# Solve the equation Ax=B BY USING LU FACTORIZATION\n",
    "import numpy as np\n",
    "import scipy.linalg as lg \n",
    "A= np.array([[4,-2,-3,1],[1,3,1,3],[1,2,-1,-2],[2,1,-1,-1]])\n",
    "B=np.array([[20],[14],[3],[9]])\n",
    "print('B')\n",
    "print(B)\n",
    "LU,y=lg.lu_factor(A) # Do the factorization\n",
    "\n",
    "X= lg.lu_solve((LU,y),B) #solve the system\n",
    "print('X')\n",
    "print(X)\n",
    "\n"
   ]
  },
  {
   "cell_type": "code",
   "execution_count": 56,
   "id": "4588cdbd",
   "metadata": {},
   "outputs": [],
   "source": [
    "# GAUSSIAN ELIMINATION\n",
    "# 4x1-2x2-3x3-x4=20\n",
    "# x1+3x2+x3+3x4=14    \n",
    "# x1+2x2-x3-2x4=3\n",
    "# 2x2+x2-x3-x4=9"
   ]
  },
  {
   "cell_type": "code",
   "execution_count": 57,
   "id": "fee9cdba",
   "metadata": {},
   "outputs": [
    {
     "name": "stdout",
     "output_type": "stream",
     "text": [
      "A\n",
      "[[ 4. -2. -3.  1.]\n",
      " [ 1.  3.  1.  3.]\n",
      " [ 1.  2. -1. -2.]\n",
      " [ 2.  1. -1. -1.]]\n",
      "B\n",
      "[[20.]\n",
      " [14.]\n",
      " [ 3.]\n",
      " [ 9.]]\n"
     ]
    }
   ],
   "source": [
    "# input system ofequatins\n",
    "A=np.array([[4,-2,-3,1],[1,3,1,3],[1,2,-1,-2],[2,1,-1,-1]],float)\n",
    "B=np.array([[20],[14],[3],[9]],float)\n",
    "print('A')\n",
    "print(A)\n",
    "print('B') # AX=B\n",
    "print(B)"
   ]
  },
  {
   "cell_type": "code",
   "execution_count": 58,
   "id": "810469e4",
   "metadata": {},
   "outputs": [],
   "source": [
    "n=len(B)\n",
    "X=np.zeros(n,float)\n"
   ]
  },
  {
   "cell_type": "code",
   "execution_count": 59,
   "id": "8b91dae5",
   "metadata": {},
   "outputs": [
    {
     "name": "stdout",
     "output_type": "stream",
     "text": [
      "the sulution of the system:\n",
      "[ 5.  1. -0.  2.]\n",
      "rank_A: 4\n",
      "aug_A\n",
      "[[ 4. -2. -3.  1. 20.]\n",
      " [ 1.  3.  1.  3. 14.]\n",
      " [ 1.  2. -1. -2.  3.]\n",
      " [ 2.  1. -1. -1.  9.]]\n",
      "rank_aug_A\n",
      "4\n",
      "The system has a unique solution. \n",
      "\n"
     ]
    }
   ],
   "source": [
    "# Forward Elimination\n",
    "for k in range(n-1):\n",
    "    for i in range(k+1,n):\n",
    "        fctr=A[i,k] / A[k,k]\n",
    "        for j in range(k,n):\n",
    "            A[i,j]=A[i,j]-fctr*A[k,j]\n",
    "        B[i]=B[i]-fctr*B[k]\n",
    "\n",
    "        \n",
    "# Back-substitution \n",
    "X[n-1]=B[n-1] / A[n-1,n-1]\n",
    "for i in range(n-2,-1,-1):\n",
    "    Sum =B[i]\n",
    "    for j in range(i+1,n):\n",
    "        Sum=Sum- A[i,j]*X[j]\n",
    "    X[i]= Sum/A[i,i]\n",
    "\n",
    "  # CHECK WHETHER THERE ARE 0,1 AND INFINTELY MANY SOLUTIONS:  \n",
    "print('the sulution of the system:')\n",
    "print(X)\n",
    "\n",
    "# CHECK WHETHER THERE ARE 0,1 AND INFINTELY MANY SOLUTIONS:\n",
    "rank_A=np.linalg.matrix_rank(A)\n",
    "print('rank_A:',rank_A)\n",
    "aug_A=np.array([[4,-2,-3,1,20],[1,3,1,3,14],[1,2,-1,-2,3],[2,1,-1,-1,9]],float) \n",
    "print('aug_A')\n",
    "print(aug_A)\n",
    "rank_aug_A=np.linalg.matrix_rank(aug_A)\n",
    "print('rank_aug_A')\n",
    "print(rank_aug_A)\n",
    "if (rank_A==rank_aug_A)&(rank_aug_A==np.shape(A)[0]):\n",
    "    print(\"The system has a unique solution. \\n\")\n",
    "elif (rank_A==rank_aug_A)&(rank_aug_A<np.shape(A)[0]):\n",
    "      print(\"The system has many solution \\n\")\n",
    "if(rank_A<rank_aug_A):\n",
    "      print(\"The system is inconsistent.\")\n",
    "      "
   ]
  },
  {
   "cell_type": "code",
   "execution_count": 60,
   "id": "3fafb7d9",
   "metadata": {},
   "outputs": [
    {
     "name": "stdout",
     "output_type": "stream",
     "text": [
      "A:\n",
      "[[23 34 12  5  8]\n",
      " [21 32  3  7 41]\n",
      " [ 8  9 32  9  0]\n",
      " [ 3 12 22 24 27]]\n",
      "B:\n",
      "[[23]\n",
      " [45]\n",
      " [34]\n",
      " [33]]\n"
     ]
    }
   ],
   "source": [
    "# read the matrix A from csv file and read the vector from csv file \n",
    "import pandas as pd # oandas is python libraray it is used for working with data sets i.e cleaning,manipulating data\n",
    "A=pd.read_csv(\"pythonmatrixA.csv\") # read csv file using read_csv() method defined in pandas library\n",
    "B=pd.read_csv(\"pythonvectorB.csv\")\n",
    "A=A.to_numpy()\n",
    "B=B.to_numpy()\n",
    "print('A:')\n",
    "print(A)\n",
    "print('B:')\n",
    "print(B)\n"
   ]
  },
  {
   "cell_type": "code",
   "execution_count": 61,
   "id": "d4d9702a",
   "metadata": {},
   "outputs": [
    {
     "name": "stdout",
     "output_type": "stream",
     "text": [
      "matrix is symmetric\n",
      "P:\n",
      "[[ 0.72547625 -0.6882472  -0.01800032]\n",
      " [-0.21764288 -0.22941573  0.95379133]\n",
      " [ 0.65292863  0.6882472   0.29993013]]\n",
      "D:\n",
      "[[12.  0.  0.]\n",
      " [ 0. -7.  0.]\n",
      " [ 0.  0. 12.]]\n",
      "P_inv:\n",
      "[[ 0.72547625 -0.19409716  0.6607772 ]\n",
      " [-0.6882472  -0.22941573  0.6882472 ]\n",
      " [ 0.          0.94897545  0.31632515]]\n",
      "verify result:\n",
      "[[ 3. -3.  9.]\n",
      " [-3. 11.  3.]\n",
      " [ 9.  3.  3.]]\n",
      "eigenvalues:\n",
      "[12. -7. 12.]\n"
     ]
    }
   ],
   "source": [
    "# Diagonalization of matrix \n",
    "import numpy as np\n",
    "A=np.array([[3,-3,9],[-3,11,3],[9,3,3]])\n",
    "eigenvalues,eigenvectors = np.linalg.eig(A)\n",
    "P= eigenvectors\n",
    "B=A.transpose() # Transpose of given array\n",
    "\n",
    "if np.array_equal(A,B):#compare arrays using array_equal() method\n",
    "    print(\"matrix is symmetric\")\n",
    "D = np.zeros((3,3))\n",
    "for i in range(3):\n",
    "    D[i,i]= eigenvalues[i]\n",
    "P_inv= np.linalg.inv(P)\n",
    "print('P:')\n",
    "print(P) # eigensvectors matrix \n",
    "print('D:')\n",
    "print(D)\n",
    "print('P_inv:') # inverse of eigensvector matrix\n",
    "print(P_inv)    \n",
    "d=P.dot(D.dot(P_inv))\n",
    "print(\"verify result:\")# it is for verifying result \n",
    "print(d)\n",
    "\n",
    "print('eigenvalues:')   \n",
    "    \n",
    "print(eigenvalues)# for eigensvalues pairs \n",
    "        \n",
    "\n",
    "    \n",
    "    "
   ]
  },
  {
   "cell_type": "code",
   "execution_count": 62,
   "id": "0ddd1d95",
   "metadata": {},
   "outputs": [
    {
     "name": "stdout",
     "output_type": "stream",
     "text": [
      "eigens pair: [ 8.80916362  0.92620912 -0.73537273] \n",
      " [[-0.52799324 -0.77557092 -0.36272811]\n",
      " [-0.604391    0.62277013 -0.7103262 ]\n",
      " [-0.59660259 -0.10318482  0.60321224]]\n"
     ]
    }
   ],
   "source": [
    "# Find all eigenspairs of matrix\n",
    "A=np.array([[2,2,4],[1,3,5],[2,3,4]])\n",
    "W,V=np.linalg.eig(A) # W=eigens_values and V =eigens_vectors\n",
    "print('eigens pair:',W,\"\\n\",V)\n",
    "\n"
   ]
  },
  {
   "cell_type": "code",
   "execution_count": 63,
   "id": "59a16bca",
   "metadata": {},
   "outputs": [
    {
     "name": "stdout",
     "output_type": "stream",
     "text": [
      "A: \n",
      "[[1 3 4]\n",
      " [2 6 6]\n",
      " [3 8 2]]\n",
      "exponetial of A: \n",
      "[[2.71828183e+00 2.00855369e+01 5.45981500e+01]\n",
      " [7.38905610e+00 4.03428793e+02 4.03428793e+02]\n",
      " [2.00855369e+01 2.98095799e+03 7.38905610e+00]]\n"
     ]
    }
   ],
   "source": [
    "# Give the exponential function on matrix A \n",
    "import numpy as np\n",
    "A=np.array([[1,3,4],[2,6,6],[3,8,2]])\n",
    "print(\"A: \")\n",
    "print(A)\n",
    "e=np.exp(A) # calculate the exponential\n",
    "print(\"exponetial of A: \")\n",
    "print(e)\n",
    "\n"
   ]
  },
  {
   "cell_type": "code",
   "execution_count": 64,
   "id": "f9c06b35",
   "metadata": {},
   "outputs": [
    {
     "name": "stdout",
     "output_type": "stream",
     "text": [
      "A:\n",
      "[[ 0 90 30]\n",
      " [20 45  0]\n",
      " [ 7 60 75]]\n",
      "sin of A:\n",
      "[[0.         1.         0.5       ]\n",
      " [0.34202014 0.70710678 0.        ]\n",
      " [0.12186934 0.8660254  0.96592583]]\n"
     ]
    }
   ],
   "source": [
    "# sine function on matrix \n",
    "A=np.array([[0,90,30],[20, 45,0],[7, 60,75]])\n",
    "print(\"A:\")\n",
    "print(A)\n",
    "e=np.sin(A*np.pi/180)\n",
    "print('sin of A:')\n",
    "print(e)"
   ]
  },
  {
   "cell_type": "code",
   "execution_count": 65,
   "id": "9b7a34dc",
   "metadata": {},
   "outputs": [
    {
     "name": "stdout",
     "output_type": "stream",
     "text": [
      "A: \n",
      "[[0.7  0.4  0.2 ]\n",
      " [1.   0.6  1.5 ]\n",
      " [0.3  0.25 1.2 ]]\n",
      "z: \n",
      "[[0.66818777 0.59868766 0.549834  ]\n",
      " [0.73105858 0.64565631 0.81757448]\n",
      " [0.57444252 0.5621765  0.76852478]]\n"
     ]
    }
   ],
   "source": [
    "# sigmoid function on matrix\n",
    "# f(x)=sigma(x)=1/(1+e^-x) # it is activation function which do the output of any linaer equatin function for any value  between 0 and 1  and avoid negative output which is nonsense(inappropiate) in macine leaning.\n",
    "A=np.array([[0.7,0.4,0.2],[1,0.6,1.5],[0.3,0.25,1.2]])\n",
    "print(\"A: \")\n",
    "print(A)\n",
    "z=1/(1+np.exp(-A))# sigmoid function\n",
    "print('z: ')\n",
    "print(z)\n",
    "\n",
    "\n"
   ]
  },
  {
   "cell_type": "code",
   "execution_count": null,
   "id": "385117e8",
   "metadata": {},
   "outputs": [],
   "source": []
  },
  {
   "cell_type": "code",
   "execution_count": null,
   "id": "7162a7cd",
   "metadata": {},
   "outputs": [],
   "source": []
  },
  {
   "cell_type": "code",
   "execution_count": null,
   "id": "dcdc552f",
   "metadata": {},
   "outputs": [],
   "source": []
  },
  {
   "cell_type": "code",
   "execution_count": null,
   "id": "1a61acfa",
   "metadata": {},
   "outputs": [],
   "source": []
  },
  {
   "cell_type": "code",
   "execution_count": null,
   "id": "e17a7d67",
   "metadata": {},
   "outputs": [],
   "source": []
  }
 ],
 "metadata": {
  "kernelspec": {
   "display_name": "Python 3 (ipykernel)",
   "language": "python",
   "name": "python3"
  },
  "language_info": {
   "codemirror_mode": {
    "name": "ipython",
    "version": 3
   },
   "file_extension": ".py",
   "mimetype": "text/x-python",
   "name": "python",
   "nbconvert_exporter": "python",
   "pygments_lexer": "ipython3",
   "version": "3.9.13"
  }
 },
 "nbformat": 4,
 "nbformat_minor": 5
}
